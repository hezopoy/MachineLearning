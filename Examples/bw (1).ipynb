{
  "nbformat": 4,
  "nbformat_minor": 0,
  "metadata": {
    "colab": {
      "name": "bw.ipynb",
      "version": "0.3.2",
      "provenance": [],
      "collapsed_sections": []
    },
    "kernelspec": {
      "name": "python3",
      "display_name": "Python 3"
    },
    "accelerator": "GPU"
  },
  "cells": [
    {
      "metadata": {
        "id": "lH6-CRPZBMR1",
        "colab_type": "code",
        "outputId": "79ae81f2-1463-4af3-f11b-56c9cf4aff3b",
        "colab": {
          "base_uri": "https://localhost:8080/",
          "height": 224
        }
      },
      "cell_type": "code",
      "source": [
        "!apt-get install -y -qq software-properties-common python-software-properties module-init-tools\n",
        "!add-apt-repository -y ppa:alessandro-strada/ppa 2>&1 > /dev/null\n",
        "!apt-get update -qq 2>&1 > /dev/null\n",
        "!apt-get -y install -qq google-drive-ocamlfuse fuse\n",
        "from google.colab import auth\n",
        "auth.authenticate_user()\n",
        "from oauth2client.client import GoogleCredentials\n",
        "creds = GoogleCredentials.get_application_default()\n",
        "import getpass\n",
        "!google-drive-ocamlfuse -headless -id={creds.client_id} -secret={creds.client_secret} < /dev/null 2>&1 | grep URL\n",
        "vcode = getpass.getpass()\n",
        "!echo {vcode} | google-drive-ocamlfuse -headless -id={creds.client_id} -secret={creds.client_secret}"
      ],
      "execution_count": 0,
      "outputs": [
        {
          "output_type": "stream",
          "text": [
            "E: Package 'python-software-properties' has no installation candidate\n",
            "Selecting previously unselected package google-drive-ocamlfuse.\n",
            "(Reading database ... 131304 files and directories currently installed.)\n",
            "Preparing to unpack .../google-drive-ocamlfuse_0.7.3-0ubuntu3~ubuntu18.04.1_amd64.deb ...\n",
            "Unpacking google-drive-ocamlfuse (0.7.3-0ubuntu3~ubuntu18.04.1) ...\n",
            "Setting up google-drive-ocamlfuse (0.7.3-0ubuntu3~ubuntu18.04.1) ...\n",
            "Processing triggers for man-db (2.8.3-2ubuntu0.1) ...\n",
            "Please, open the following URL in a web browser: https://accounts.google.com/o/oauth2/auth?client_id=32555940559.apps.googleusercontent.com&redirect_uri=urn%3Aietf%3Awg%3Aoauth%3A2.0%3Aoob&scope=https%3A%2F%2Fwww.googleapis.com%2Fauth%2Fdrive&response_type=code&access_type=offline&approval_prompt=force\n",
            "··········\n",
            "Please, open the following URL in a web browser: https://accounts.google.com/o/oauth2/auth?client_id=32555940559.apps.googleusercontent.com&redirect_uri=urn%3Aietf%3Awg%3Aoauth%3A2.0%3Aoob&scope=https%3A%2F%2Fwww.googleapis.com%2Fauth%2Fdrive&response_type=code&access_type=offline&approval_prompt=force\n",
            "Please enter the verification code: Access token retrieved correctly.\n"
          ],
          "name": "stdout"
        }
      ]
    },
    {
      "metadata": {
        "id": "1sDV6kJ8BTbH",
        "colab_type": "code",
        "outputId": "8e68d3ca-07d1-4f01-a677-546ca4e1bd13",
        "colab": {
          "base_uri": "https://localhost:8080/",
          "height": 51
        }
      },
      "cell_type": "code",
      "source": [
        "!mkdir -p drive\n",
        "!google-drive-ocamlfuse drive"
      ],
      "execution_count": 0,
      "outputs": [
        {
          "output_type": "stream",
          "text": [
            "fuse: mountpoint is not empty\n",
            "fuse: if you are sure this is safe, use the 'nonempty' mount option\n"
          ],
          "name": "stdout"
        }
      ]
    },
    {
      "metadata": {
        "id": "ZvVvxqrYB-kG",
        "colab_type": "code",
        "colab": {}
      },
      "cell_type": "code",
      "source": [
        "!pip install keras"
      ],
      "execution_count": 0,
      "outputs": []
    },
    {
      "metadata": {
        "id": "P14xgsQLCS39",
        "colab_type": "code",
        "colab": {}
      },
      "cell_type": "code",
      "source": [
        "!pip install -U -q PyDrive\n",
        "from pydrive.auth import GoogleAuth\n",
        "from pydrive.drive import GoogleDrive\n",
        "from google.colab import auth\n",
        "from oauth2client.client import GoogleCredentials\n",
        "import os\n",
        "import pandas as pd\n",
        "auth.authenticate_user()\n",
        "gauth = GoogleAuth()\n",
        "gauth.credentials = GoogleCredentials.get_application_default()\n",
        "drive = GoogleDrive(gauth)"
      ],
      "execution_count": 0,
      "outputs": []
    },
    {
      "metadata": {
        "id": "qrTcNlQTCUyd",
        "colab_type": "code",
        "outputId": "0bb78e6f-1d4d-45a4-c8e2-8182f551cd0e",
        "colab": {
          "base_uri": "https://localhost:8080/",
          "height": 51
        }
      },
      "cell_type": "code",
      "source": [
        "train_dir = '/content/drive/Colab/BW/Data/Train'\n",
        "validation_dir = '/content/drive/Colab/BW/Data/Validation'\n",
        "from keras.preprocessing.image import ImageDataGenerator\n",
        "train_datagen = ImageDataGenerator(\n",
        "                rescale=1./255,\n",
        "                width_shift_range=0.09,\n",
        "                height_shift_range=0.18,\n",
        "                shear_range=0.15,\n",
        "                zoom_range=0.1,\n",
        "                horizontal_flip=True,\n",
        "                fill_mode='nearest')\n",
        "train_generator = train_datagen.flow_from_directory(\n",
        "                train_dir,\n",
        "                target_size=(256, 256),\n",
        "                batch_size=128,\n",
        "                class_mode='categorical')\n",
        "\n",
        "validation_datagen = ImageDataGenerator(rescale=1./255)\n",
        "validation_generator = validation_datagen.flow_from_directory(\n",
        "                validation_dir,\n",
        "                target_size=(256, 256),\n",
        "                batch_size=128,\n",
        "                class_mode='categorical')"
      ],
      "execution_count": 48,
      "outputs": [
        {
          "output_type": "stream",
          "text": [
            "Found 154 images belonging to 4 classes.\n",
            "Found 19 images belonging to 4 classes.\n"
          ],
          "name": "stdout"
        }
      ]
    },
    {
      "metadata": {
        "id": "VOaQhUcVXpkt",
        "colab_type": "code",
        "outputId": "faf608f7-40d7-43f0-d762-76314cf72bd0",
        "colab": {
          "base_uri": "https://localhost:8080/",
          "height": 374
        }
      },
      "cell_type": "code",
      "source": [
        "from keras import layers\n",
        "from keras import models\n",
        "from keras import applications\n",
        "model = models.Sequential()\n",
        "conv_base = applications.VGG16(weights='imagenet', \n",
        "                               include_top=False, \n",
        "                               input_shape=[256, 256, 3]) \n",
        "conv_base.trainable = False\n",
        "model.add(conv_base)\n",
        "model.add(layers.Flatten())\n",
        "model.add(layers.Dense(1024, activation='relu'))\n",
        "model.add(layers.Dropout(0.5))\n",
        "model.add(layers.Dense(512, activation='relu'))\n",
        "model.add(layers.Dropout(0.5))\n",
        "model.add(layers.Dense(4, activation='softmax'))\n",
        "\n",
        "from keras import optimizers\n",
        "model.compile(loss='categorical_crossentropy',\n",
        "                optimizer=optimizers.RMSprop(lr=2e-5),\n",
        "                metrics=['acc'])\n",
        "\n",
        "model.summary()"
      ],
      "execution_count": 49,
      "outputs": [
        {
          "output_type": "stream",
          "text": [
            "_________________________________________________________________\n",
            "Layer (type)                 Output Shape              Param #   \n",
            "=================================================================\n",
            "vgg16 (Model)                (None, 8, 8, 512)         14714688  \n",
            "_________________________________________________________________\n",
            "flatten_4 (Flatten)          (None, 32768)             0         \n",
            "_________________________________________________________________\n",
            "dense_10 (Dense)             (None, 1024)              33555456  \n",
            "_________________________________________________________________\n",
            "dropout_7 (Dropout)          (None, 1024)              0         \n",
            "_________________________________________________________________\n",
            "dense_11 (Dense)             (None, 512)               524800    \n",
            "_________________________________________________________________\n",
            "dropout_8 (Dropout)          (None, 512)               0         \n",
            "_________________________________________________________________\n",
            "dense_12 (Dense)             (None, 4)                 2052      \n",
            "=================================================================\n",
            "Total params: 48,796,996\n",
            "Trainable params: 34,082,308\n",
            "Non-trainable params: 14,714,688\n",
            "_________________________________________________________________\n"
          ],
          "name": "stdout"
        }
      ]
    },
    {
      "metadata": {
        "id": "l7FfGQTsaTzQ",
        "colab_type": "code",
        "outputId": "5db28d8f-51c9-4c07-bb4f-dfe42e931697",
        "colab": {
          "base_uri": "https://localhost:8080/",
          "height": 1037
        }
      },
      "cell_type": "code",
      "source": [
        "from keras import callbacks\n",
        "mc = callbacks.ModelCheckpoint('/content/drive/Colab/BW/weights{epoch:08d}.h5', \n",
        "                                     save_weights_only=True, period=10)\n",
        "history = model.fit_generator(\n",
        "                train_generator,\n",
        "                steps_per_epoch=50,\n",
        "                epochs=30,\n",
        "                callbacks=[mc],\n",
        "                validation_data=validation_generator,\n",
        "                validation_steps=50\n",
        "                )"
      ],
      "execution_count": 53,
      "outputs": [
        {
          "output_type": "stream",
          "text": [
            "Epoch 1/30\n",
            "50/50 [==============================] - 77s 2s/step - loss: 1.1774 - acc: 0.4919 - val_loss: 0.9538 - val_acc: 0.5789\n",
            "Epoch 2/30\n",
            "50/50 [==============================] - 66s 1s/step - loss: 0.8682 - acc: 0.6541 - val_loss: 0.7515 - val_acc: 0.6316\n",
            "Epoch 3/30\n",
            "50/50 [==============================] - 66s 1s/step - loss: 0.7284 - acc: 0.7070 - val_loss: 0.6183 - val_acc: 0.7368\n",
            "Epoch 4/30\n",
            "50/50 [==============================] - 66s 1s/step - loss: 0.6316 - acc: 0.7423 - val_loss: 0.4955 - val_acc: 0.8421\n",
            "Epoch 5/30\n",
            "50/50 [==============================] - 66s 1s/step - loss: 0.5560 - acc: 0.7761 - val_loss: 0.4319 - val_acc: 0.8947\n",
            "Epoch 6/30\n",
            "50/50 [==============================] - 66s 1s/step - loss: 0.5053 - acc: 0.7968 - val_loss: 0.3642 - val_acc: 0.9474\n",
            "Epoch 7/30\n",
            "50/50 [==============================] - 68s 1s/step - loss: 0.4324 - acc: 0.8344 - val_loss: 0.2938 - val_acc: 0.9474\n",
            "Epoch 8/30\n",
            "50/50 [==============================] - 67s 1s/step - loss: 0.4122 - acc: 0.8440 - val_loss: 0.2763 - val_acc: 0.9474\n",
            "Epoch 9/30\n",
            "50/50 [==============================] - 65s 1s/step - loss: 0.3620 - acc: 0.8637 - val_loss: 0.2394 - val_acc: 0.9474\n",
            "Epoch 10/30\n",
            "50/50 [==============================] - 66s 1s/step - loss: 0.3553 - acc: 0.8601 - val_loss: 0.2404 - val_acc: 0.9474\n",
            "Epoch 11/30\n",
            "50/50 [==============================] - 67s 1s/step - loss: 0.3031 - acc: 0.8896 - val_loss: 0.2154 - val_acc: 0.9474\n",
            "Epoch 12/30\n",
            "50/50 [==============================] - 68s 1s/step - loss: 0.2758 - acc: 0.8957 - val_loss: 0.2129 - val_acc: 0.9474\n",
            "Epoch 13/30\n",
            "50/50 [==============================] - 66s 1s/step - loss: 0.2717 - acc: 0.9010 - val_loss: 0.2162 - val_acc: 0.9474\n",
            "Epoch 14/30\n",
            "50/50 [==============================] - 66s 1s/step - loss: 0.2198 - acc: 0.9192 - val_loss: 0.2445 - val_acc: 0.9474\n",
            "Epoch 15/30\n",
            "50/50 [==============================] - 66s 1s/step - loss: 0.2314 - acc: 0.9137 - val_loss: 0.1976 - val_acc: 0.9474\n",
            "Epoch 16/30\n",
            "50/50 [==============================] - 67s 1s/step - loss: 0.2061 - acc: 0.9212 - val_loss: 0.2233 - val_acc: 0.9474\n",
            "Epoch 17/30\n",
            "50/50 [==============================] - 66s 1s/step - loss: 0.1911 - acc: 0.9305 - val_loss: 0.1888 - val_acc: 0.9474\n",
            "Epoch 18/30\n",
            "50/50 [==============================] - 66s 1s/step - loss: 0.1971 - acc: 0.9268 - val_loss: 0.1920 - val_acc: 0.9474\n",
            "Epoch 19/30\n",
            "50/50 [==============================] - 66s 1s/step - loss: 0.1706 - acc: 0.9406 - val_loss: 0.1911 - val_acc: 0.9474\n",
            "Epoch 20/30\n",
            "50/50 [==============================] - 66s 1s/step - loss: 0.1480 - acc: 0.9493 - val_loss: 0.2002 - val_acc: 0.9474\n",
            "Epoch 21/30\n",
            "50/50 [==============================] - 68s 1s/step - loss: 0.1729 - acc: 0.9350 - val_loss: 0.1546 - val_acc: 0.9474\n",
            "Epoch 22/30\n",
            "50/50 [==============================] - 66s 1s/step - loss: 0.1464 - acc: 0.9487 - val_loss: 0.1895 - val_acc: 0.9474\n",
            "Epoch 23/30\n",
            "50/50 [==============================] - 65s 1s/step - loss: 0.1382 - acc: 0.9555 - val_loss: 0.1806 - val_acc: 0.9474\n",
            "Epoch 24/30\n",
            "50/50 [==============================] - 66s 1s/step - loss: 0.1355 - acc: 0.9489 - val_loss: 0.2404 - val_acc: 0.9474\n",
            "Epoch 25/30\n",
            "50/50 [==============================] - 68s 1s/step - loss: 0.1229 - acc: 0.9564 - val_loss: 0.1730 - val_acc: 0.9474\n",
            "Epoch 26/30\n",
            "50/50 [==============================] - 67s 1s/step - loss: 0.1205 - acc: 0.9521 - val_loss: 0.2135 - val_acc: 0.9474\n",
            "Epoch 27/30\n",
            "50/50 [==============================] - 66s 1s/step - loss: 0.1084 - acc: 0.9613 - val_loss: 0.1986 - val_acc: 0.9474\n",
            "Epoch 28/30\n",
            "50/50 [==============================] - 65s 1s/step - loss: 0.0966 - acc: 0.9668 - val_loss: 0.2361 - val_acc: 0.9474\n",
            "Epoch 29/30\n",
            "50/50 [==============================] - 65s 1s/step - loss: 0.1091 - acc: 0.9597 - val_loss: 0.1845 - val_acc: 0.9474\n",
            "Epoch 30/30\n",
            "50/50 [==============================] - 69s 1s/step - loss: 0.1068 - acc: 0.9627 - val_loss: 0.2019 - val_acc: 0.9474\n"
          ],
          "name": "stdout"
        }
      ]
    },
    {
      "metadata": {
        "id": "jbbzvUT2adi8",
        "colab_type": "code",
        "colab": {
          "base_uri": "https://localhost:8080/",
          "height": 590
        },
        "outputId": "39e7e4d2-b5e9-4bfc-d5d9-188fc90c278e"
      },
      "cell_type": "code",
      "source": [
        "import matplotlib.pyplot as plt\n",
        "# list all data in history\n",
        "print(history.history.keys())\n",
        "# summarize history for accuracy\n",
        "plt.plot(history.history['acc'],label='Training acc')\n",
        "plt.plot(history.history['val_acc'],label='Validation acc')\n",
        "plt.title('model accuracy')\n",
        "plt.ylabel('accuracy')\n",
        "plt.xlabel('epoch')\n",
        "plt.legend()\n",
        "\n",
        "plt.show()\n",
        "# summarize history for loss\n",
        "plt.plot(history.history['loss'],label='Training loss')\n",
        "plt.plot(history.history['val_loss'],label='Validation loss')\n",
        "plt.title('model loss')\n",
        "plt.ylabel('loss')\n",
        "plt.xlabel('epoch')\n",
        "plt.legend()\n",
        "plt.show()"
      ],
      "execution_count": 56,
      "outputs": [
        {
          "output_type": "stream",
          "text": [
            "dict_keys(['val_loss', 'val_acc', 'loss', 'acc'])\n"
          ],
          "name": "stdout"
        },
        {
          "output_type": "display_data",
          "data": {
            "image/png": "[encoded data removed]",
            "text/plain": [
              "<Figure size 432x288 with 1 Axes>"
            ]
          },
          "metadata": {
            "tags": []
          }
        },
        {
          "output_type": "display_data",
          "data": {
            "image/png": "[encoded data removed]",
            "text/plain": [
              "<Figure size 432x288 with 1 Axes>"
            ]
          },
          "metadata": {
            "tags": []
          }
        }
      ]
    },
    {
      "metadata": {
        "id": "LvHglsPggRIT",
        "colab_type": "code",
        "colab": {}
      },
      "cell_type": "code",
      "source": [
        ""
      ],
      "execution_count": 0,
      "outputs": []
    }
  ]
}