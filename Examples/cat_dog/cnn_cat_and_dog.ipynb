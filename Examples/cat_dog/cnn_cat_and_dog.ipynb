{
 "cells": [
  {
   "cell_type": "code",
   "execution_count": 1,
   "metadata": {},
   "outputs": [],
   "source": [
    "import os\n",
    "base_dir = 'E:/Python/MachineLearning/cat_dog/traindata_small'\n",
    "train_dir = os.path.join(base_dir, 'train')\n",
    "validation_dir = os.path.join(base_dir, 'validation')"
   ]
  },
  {
   "cell_type": "code",
   "execution_count": 8,
   "metadata": {},
   "outputs": [],
   "source": [
    "from keras import layers\n",
    "from keras import models\n",
    "from keras import applications\n",
    "model = models.Sequential()\n",
    "conv_base = applications.VGG16(weights='imagenet', \n",
    "                               include_top=False, \n",
    "                               input_shape=[150, 150, 3]) \n",
    "conv_base.trainable = False\n",
    "model.add(conv_base)\n",
    "#model.add(layers.Conv2D(32, (3, 3), activation='relu',\n",
    "#                input_shape=(150, 150, 3)))\n",
    "#model.add(layers.MaxPooling2D((2, 2)))\n",
    "#model.add(layers.Conv2D(64, (3, 3), activation='relu'))\n",
    "#model.add(layers.MaxPooling2D((2, 2)))\n",
    "#model.add(layers.Conv2D(128, (3, 3), activation='relu'))\n",
    "#model.add(layers.MaxPooling2D((2, 2)))\n",
    "#model.add(layers.Conv2D(128, (3, 3), activation='relu'))\n",
    "#model.add(layers.MaxPooling2D((2, 2)))\n",
    "model.add(layers.Flatten())\n",
    "#model.add(layers.Dropout(0.5))\n",
    "model.add(layers.Dense(256, activation='relu'))\n",
    "model.add(layers.Dense(1, activation='sigmoid'))\n",
    "\n",
    "from keras import optimizers\n",
    "model.compile(loss='binary_crossentropy',\n",
    "                optimizer=optimizers.RMSprop(lr=2e-5),\n",
    "                metrics=['acc'])"
   ]
  },
  {
   "cell_type": "code",
   "execution_count": 3,
   "metadata": {},
   "outputs": [
    {
     "name": "stdout",
     "output_type": "stream",
     "text": [
      "_________________________________________________________________\n",
      "Layer (type)                 Output Shape              Param #   \n",
      "=================================================================\n",
      "vgg16 (Model)                (None, 4, 4, 512)         14714688  \n",
      "_________________________________________________________________\n",
      "flatten_1 (Flatten)          (None, 8192)              0         \n",
      "_________________________________________________________________\n",
      "dropout_1 (Dropout)          (None, 8192)              0         \n",
      "_________________________________________________________________\n",
      "dense_1 (Dense)              (None, 512)               4194816   \n",
      "_________________________________________________________________\n",
      "dense_2 (Dense)              (None, 1)                 513       \n",
      "=================================================================\n",
      "Total params: 18,910,017\n",
      "Trainable params: 4,195,329\n",
      "Non-trainable params: 14,714,688\n",
      "_________________________________________________________________\n"
     ]
    }
   ],
   "source": [
    "model.summary()"
   ]
  },
  {
   "cell_type": "code",
   "execution_count": 4,
   "metadata": {},
   "outputs": [],
   "source": [
    "from keras.preprocessing.image import ImageDataGenerator\n",
    "train_datagen = ImageDataGenerator(\n",
    "                rescale=1./255,\n",
    "                rotation_range=40,\n",
    "                width_shift_range=0.2,\n",
    "                height_shift_range=0.2,\n",
    "                shear_range=0.2,\n",
    "                zoom_range=0.2,\n",
    "                horizontal_flip=True,\n",
    "                fill_mode='nearest')\n",
    "test_datagen = ImageDataGenerator(rescale=1./255)"
   ]
  },
  {
   "cell_type": "code",
   "execution_count": 5,
   "metadata": {},
   "outputs": [
    {
     "name": "stdout",
     "output_type": "stream",
     "text": [
      "Found 20996 images belonging to 2 classes.\n"
     ]
    }
   ],
   "source": [
    "train_generator = train_datagen.flow_from_directory(\n",
    "                train_dir,\n",
    "                target_size=(150, 150),\n",
    "                batch_size=20,\n",
    "                class_mode='binary')"
   ]
  },
  {
   "cell_type": "code",
   "execution_count": 6,
   "metadata": {},
   "outputs": [
    {
     "name": "stdout",
     "output_type": "stream",
     "text": [
      "Found 3998 images belonging to 2 classes.\n"
     ]
    }
   ],
   "source": [
    "validation_generator = test_datagen.flow_from_directory(\n",
    "                validation_dir,\n",
    "                target_size=(150, 150),\n",
    "                batch_size=20,\n",
    "                class_mode='binary')"
   ]
  },
  {
   "cell_type": "code",
   "execution_count": 14,
   "metadata": {},
   "outputs": [
    {
     "name": "stdout",
     "output_type": "stream",
     "text": [
      "Epoch 1/40\n",
      "100/100 [==============================] - 26s 261ms/step - loss: 0.2997 - acc: 0.8710 - val_loss: 0.2357 - val_acc: 0.8960\n",
      "Epoch 2/40\n",
      "100/100 [==============================] - 22s 215ms/step - loss: 0.3209 - acc: 0.8510 - val_loss: 0.2291 - val_acc: 0.9050\n",
      "Epoch 3/40\n",
      "100/100 [==============================] - 24s 235ms/step - loss: 0.3338 - acc: 0.8517 - val_loss: 0.2239 - val_acc: 0.9040\n",
      "Epoch 4/40\n",
      "100/100 [==============================] - 22s 215ms/step - loss: 0.3044 - acc: 0.8730 - val_loss: 0.2423 - val_acc: 0.8988\n",
      "Epoch 5/40\n",
      "100/100 [==============================] - 22s 216ms/step - loss: 0.3164 - acc: 0.8600 - val_loss: 0.2483 - val_acc: 0.8960\n",
      "Epoch 6/40\n",
      "100/100 [==============================] - 24s 237ms/step - loss: 0.3002 - acc: 0.8675 - val_loss: 0.2249 - val_acc: 0.9010\n",
      "Epoch 7/40\n",
      "100/100 [==============================] - 22s 220ms/step - loss: 0.3032 - acc: 0.8710 - val_loss: 0.2472 - val_acc: 0.8990\n",
      "Epoch 8/40\n",
      "100/100 [==============================] - 23s 225ms/step - loss: 0.3130 - acc: 0.8600 - val_loss: 0.2443 - val_acc: 0.9058\n",
      "Epoch 9/40\n",
      "100/100 [==============================] - 24s 240ms/step - loss: 0.2997 - acc: 0.8810 - val_loss: 0.2396 - val_acc: 0.8990\n",
      "Epoch 10/40\n",
      "100/100 [==============================] - 22s 225ms/step - loss: 0.3121 - acc: 0.8605 - val_loss: 0.2117 - val_acc: 0.9120\n",
      "Epoch 11/40\n",
      "100/100 [==============================] - 26s 257ms/step - loss: 0.3190 - acc: 0.8560 - val_loss: 0.2485 - val_acc: 0.8950\n",
      "Epoch 12/40\n",
      "100/100 [==============================] - 23s 231ms/step - loss: 0.3267 - acc: 0.8560 - val_loss: 0.2311 - val_acc: 0.9008\n",
      "Epoch 13/40\n",
      "100/100 [==============================] - 22s 216ms/step - loss: 0.3202 - acc: 0.8580 - val_loss: 0.2564 - val_acc: 0.8980\n",
      "Epoch 14/40\n",
      "100/100 [==============================] - 24s 238ms/step - loss: 0.2839 - acc: 0.8715 - val_loss: 0.2412 - val_acc: 0.8960\n",
      "Epoch 15/40\n",
      "100/100 [==============================] - 21s 210ms/step - loss: 0.3277 - acc: 0.8480 - val_loss: 0.2337 - val_acc: 0.8990\n",
      "Epoch 16/40\n",
      "100/100 [==============================] - 22s 220ms/step - loss: 0.3083 - acc: 0.8665 - val_loss: 0.2289 - val_acc: 0.9068\n",
      "Epoch 17/40\n",
      "100/100 [==============================] - 23s 227ms/step - loss: 0.3084 - acc: 0.8625 - val_loss: 0.2220 - val_acc: 0.9040\n",
      "Epoch 18/40\n",
      "100/100 [==============================] - 22s 220ms/step - loss: 0.3098 - acc: 0.8670 - val_loss: 0.2292 - val_acc: 0.9050\n",
      "Epoch 19/40\n",
      "100/100 [==============================] - 24s 243ms/step - loss: 0.3164 - acc: 0.8650 - val_loss: 0.2592 - val_acc: 0.8960\n",
      "Epoch 20/40\n",
      "100/100 [==============================] - 22s 223ms/step - loss: 0.3273 - acc: 0.8515 - val_loss: 0.2627 - val_acc: 0.8948\n",
      "Epoch 21/40\n",
      "100/100 [==============================] - 22s 215ms/step - loss: 0.3047 - acc: 0.8740 - val_loss: 0.2273 - val_acc: 0.9070\n",
      "Epoch 22/40\n",
      "100/100 [==============================] - 25s 252ms/step - loss: 0.3137 - acc: 0.8630 - val_loss: 0.2115 - val_acc: 0.9040\n",
      "Epoch 23/40\n",
      "100/100 [==============================] - 22s 218ms/step - loss: 0.2966 - acc: 0.8725 - val_loss: 0.2264 - val_acc: 0.9080\n",
      "Epoch 24/40\n",
      "100/100 [==============================] - 22s 224ms/step - loss: 0.3161 - acc: 0.8622 - val_loss: 0.2222 - val_acc: 0.9078\n",
      "Epoch 25/40\n",
      "100/100 [==============================] - 22s 216ms/step - loss: 0.3102 - acc: 0.8585 - val_loss: 0.2562 - val_acc: 0.8940\n",
      "Epoch 26/40\n",
      "100/100 [==============================] - 22s 216ms/step - loss: 0.2838 - acc: 0.8765 - val_loss: 0.2425 - val_acc: 0.8940\n",
      "Epoch 27/40\n",
      "100/100 [==============================] - 24s 238ms/step - loss: 0.3071 - acc: 0.8650 - val_loss: 0.2327 - val_acc: 0.9020\n",
      "Epoch 28/40\n",
      "100/100 [==============================] - 22s 221ms/step - loss: 0.2812 - acc: 0.8830 - val_loss: 0.2398 - val_acc: 0.9018\n",
      "Epoch 29/40\n",
      "100/100 [==============================] - 23s 230ms/step - loss: 0.3290 - acc: 0.8510 - val_loss: 0.2335 - val_acc: 0.8990\n",
      "Epoch 30/40\n",
      "100/100 [==============================] - 24s 238ms/step - loss: 0.2901 - acc: 0.8755 - val_loss: 0.2501 - val_acc: 0.9070\n",
      "Epoch 31/40\n",
      "100/100 [==============================] - 21s 214ms/step - loss: 0.3086 - acc: 0.8690 - val_loss: 0.2384 - val_acc: 0.9040\n",
      "Epoch 32/40\n",
      "100/100 [==============================] - 22s 224ms/step - loss: 0.3081 - acc: 0.8570 - val_loss: 0.2243 - val_acc: 0.9028\n",
      "Epoch 33/40\n",
      "100/100 [==============================] - 22s 224ms/step - loss: 0.3062 - acc: 0.8685 - val_loss: 0.2133 - val_acc: 0.9050\n",
      "Epoch 34/40\n",
      "100/100 [==============================] - 23s 227ms/step - loss: 0.3302 - acc: 0.8515 - val_loss: 0.2279 - val_acc: 0.8970\n",
      "Epoch 35/40\n",
      "100/100 [==============================] - 24s 244ms/step - loss: 0.3005 - acc: 0.8759 - val_loss: 0.2473 - val_acc: 0.9020\n",
      "Epoch 36/40\n",
      "100/100 [==============================] - 23s 231ms/step - loss: 0.2924 - acc: 0.8775 - val_loss: 0.2498 - val_acc: 0.8978\n",
      "Epoch 37/40\n",
      "100/100 [==============================] - 25s 246ms/step - loss: 0.2891 - acc: 0.8790 - val_loss: 0.2161 - val_acc: 0.9130\n",
      "Epoch 38/40\n",
      "100/100 [==============================] - 23s 232ms/step - loss: 0.3112 - acc: 0.8760 - val_loss: 0.2322 - val_acc: 0.8990\n",
      "Epoch 39/40\n",
      "100/100 [==============================] - 22s 215ms/step - loss: 0.3040 - acc: 0.8605 - val_loss: 0.2309 - val_acc: 0.9000\n",
      "Epoch 40/40\n",
      "100/100 [==============================] - 24s 238ms/step - loss: 0.2930 - acc: 0.8740 - val_loss: 0.2441 - val_acc: 0.9028\n"
     ]
    }
   ],
   "source": [
    "history = model.fit_generator(\n",
    "                train_generator,\n",
    "                steps_per_epoch=100,\n",
    "                epochs=40,\n",
    "                validation_data=validation_generator,\n",
    "                validation_steps=50)"
   ]
  },
  {
   "cell_type": "code",
   "execution_count": 15,
   "metadata": {},
   "outputs": [],
   "source": [
    "model.save('cats_and_dogs_small.md')"
   ]
  },
  {
   "cell_type": "code",
   "execution_count": 16,
   "metadata": {},
   "outputs": [
    {
     "data": {
      "text/plain": [
       "<matplotlib.legend.Legend at 0x20c9d9387b8>"
      ]
     },
     "execution_count": 16,
     "metadata": {},
     "output_type": "execute_result"
    },
    {
     "data": {
      "image/png": "[encoded data removed]",
      "text/plain": [
       "<Figure size 432x288 with 1 Axes>"
      ]
     },
     "metadata": {
      "needs_background": "light"
     },
     "output_type": "display_data"
    }
   ],
   "source": [
    "import matplotlib.pyplot as plt\n",
    "acc = history.history['acc']\n",
    "val_acc = history.history['val_acc']\n",
    "loss = history.history['loss']\n",
    "val_loss = history.history['val_loss']\n",
    "epochs = range(1, len(acc) + 1)\n",
    "plt.plot(epochs, acc, 'bo', label='Training acc')\n",
    "plt.plot(epochs, val_acc, 'b', label='Validation acc')\n",
    "plt.title('Training and validation accuracy')\n",
    "plt.legend()"
   ]
  },
  {
   "cell_type": "code",
   "execution_count": 17,
   "metadata": {},
   "outputs": [
    {
     "data": {
      "image/png": "[encoded data removed]",
      "text/plain": [
       "<Figure size 432x288 with 1 Axes>"
      ]
     },
     "metadata": {
      "needs_background": "light"
     },
     "output_type": "display_data"
    }
   ],
   "source": [
    "\n",
    "plt.figure()\n",
    "plt.plot(epochs, loss, 'bo', label='Training loss')\n",
    "plt.plot(epochs, val_loss, 'b', label='Validation loss')\n",
    "plt.title('Training and validation loss')\n",
    "plt.legend()\n",
    "plt.show()"
   ]
  },
  {
   "cell_type": "code",
   "execution_count": null,
   "metadata": {},
   "outputs": [],
   "source": []
  },
  {
   "cell_type": "code",
   "execution_count": null,
   "metadata": {},
   "outputs": [],
   "source": []
  }
 ],
 "metadata": {
  "kernelspec": {
   "display_name": "Python 3",
   "language": "python",
   "name": "python3"
  },
  "language_info": {
   "codemirror_mode": {
    "name": "ipython",
    "version": 3
   },
   "file_extension": ".py",
   "mimetype": "text/x-python",
   "name": "python",
   "nbconvert_exporter": "python",
   "pygments_lexer": "ipython3",
   "version": "3.6.8"
  }
 },
 "nbformat": 4,
 "nbformat_minor": 2
}
