{
 "cells": [
  {
   "cell_type": "code",
   "execution_count": 1,
   "metadata": {},
   "outputs": [],
   "source": [
    "import os\n",
    "base_dir = 'E:/Python/MachineLearning/cat_dog/traindata_small'\n",
    "train_dir = os.path.join(base_dir, 'train')\n",
    "validation_dir = os.path.join(base_dir, 'validation')"
   ]
  },
  {
   "cell_type": "code",
   "execution_count": 16,
   "metadata": {},
   "outputs": [],
   "source": [
    "from keras import layers\n",
    "from keras import models\n",
    "model = models.Sequential()\n",
    "model.add(layers.Conv2D(32, (3, 3), activation='relu',\n",
    "                input_shape=(150, 150, 3)))\n",
    "model.add(layers.MaxPooling2D((2, 2)))\n",
    "model.add(layers.Conv2D(64, (3, 3), activation='relu'))\n",
    "model.add(layers.MaxPooling2D((2, 2)))\n",
    "model.add(layers.Conv2D(128, (3, 3), activation='relu'))\n",
    "model.add(layers.MaxPooling2D((2, 2)))\n",
    "model.add(layers.Conv2D(128, (3, 3), activation='relu'))\n",
    "model.add(layers.MaxPooling2D((2, 2)))\n",
    "model.add(layers.Flatten())\n",
    "model.add(layers.Dropout(0.5))\n",
    "model.add(layers.Dense(512, activation='relu'))\n",
    "model.add(layers.Dense(1, activation='sigmoid'))\n",
    "\n",
    "from keras import optimizers\n",
    "model.compile(loss='binary_crossentropy',\n",
    "                optimizer=optimizers.RMSprop(lr=1e-4),\n",
    "                metrics=['acc'])"
   ]
  },
  {
   "cell_type": "code",
   "execution_count": 17,
   "metadata": {},
   "outputs": [],
   "source": [
    "train_datagen = ImageDataGenerator(\n",
    "                rescale=1./255,\n",
    "                rotation_range=40,\n",
    "                width_shift_range=0.2,\n",
    "                height_shift_range=0.2,\n",
    "                shear_range=0.2,\n",
    "                zoom_range=0.2,\n",
    "                horizontal_flip=True,)\n",
    "test_datagen = ImageDataGenerator(rescale=1./255)"
   ]
  },
  {
   "cell_type": "code",
   "execution_count": 18,
   "metadata": {},
   "outputs": [
    {
     "name": "stdout",
     "output_type": "stream",
     "text": [
      "Found 17998 images belonging to 2 classes.\n"
     ]
    }
   ],
   "source": [
    "train_generator = train_datagen.flow_from_directory(\n",
    "                train_dir,\n",
    "                target_size=(150, 150),\n",
    "                batch_size=32,\n",
    "                class_mode='binary')"
   ]
  },
  {
   "cell_type": "code",
   "execution_count": 14,
   "metadata": {},
   "outputs": [
    {
     "name": "stdout",
     "output_type": "stream",
     "text": [
      "Found 17998 images belonging to 2 classes.\n"
     ]
    }
   ],
   "source": [
    "train_generator = train_datagen.flow_from_directory(\n",
    "                train_dir,\n",
    "                target_size=(150, 150),\n",
    "                batch_size=32,\n",
    "                class_mode='binary')"
   ]
  },
  {
   "cell_type": "code",
   "execution_count": 19,
   "metadata": {},
   "outputs": [
    {
     "name": "stdout",
     "output_type": "stream",
     "text": [
      "Epoch 1/100\n",
      "100/100 [==============================] - 24s 242ms/step - loss: 0.6925 - acc: 0.5222 - val_loss: 0.6807 - val_acc: 0.5952\n",
      "Epoch 2/100\n",
      "100/100 [==============================] - 24s 242ms/step - loss: 0.6774 - acc: 0.5722 - val_loss: 0.6886 - val_acc: 0.5370\n",
      "Epoch 3/100\n",
      "100/100 [==============================] - 23s 230ms/step - loss: 0.6646 - acc: 0.5887 - val_loss: 0.6329 - val_acc: 0.6530\n",
      "Epoch 4/100\n",
      "100/100 [==============================] - 22s 224ms/step - loss: 0.6583 - acc: 0.6009 - val_loss: 0.6409 - val_acc: 0.6330\n",
      "Epoch 5/100\n",
      "100/100 [==============================] - 24s 239ms/step - loss: 0.6392 - acc: 0.6384 - val_loss: 0.5704 - val_acc: 0.7074\n",
      "Epoch 6/100\n",
      "100/100 [==============================] - 21s 214ms/step - loss: 0.6295 - acc: 0.6378 - val_loss: 0.5778 - val_acc: 0.7000\n",
      "Epoch 7/100\n",
      "100/100 [==============================] - 22s 221ms/step - loss: 0.6121 - acc: 0.6594 - val_loss: 0.5918 - val_acc: 0.6930\n",
      "Epoch 8/100\n",
      "100/100 [==============================] - 23s 231ms/step - loss: 0.6097 - acc: 0.6678 - val_loss: 0.5719 - val_acc: 0.6970\n",
      "Epoch 9/100\n",
      "100/100 [==============================] - 22s 223ms/step - loss: 0.6132 - acc: 0.6572 - val_loss: 0.5379 - val_acc: 0.7255\n",
      "Epoch 10/100\n",
      "100/100 [==============================] - 23s 231ms/step - loss: 0.6008 - acc: 0.6688 - val_loss: 0.5777 - val_acc: 0.6910\n",
      "Epoch 11/100\n",
      "100/100 [==============================] - 21s 215ms/step - loss: 0.6003 - acc: 0.6769 - val_loss: 0.5455 - val_acc: 0.7180\n",
      "Epoch 12/100\n",
      "100/100 [==============================] - 21s 214ms/step - loss: 0.6007 - acc: 0.6686 - val_loss: 0.5683 - val_acc: 0.7090\n",
      "Epoch 13/100\n",
      "100/100 [==============================] - 23s 228ms/step - loss: 0.5931 - acc: 0.6728 - val_loss: 0.5305 - val_acc: 0.7395\n",
      "Epoch 14/100\n",
      "100/100 [==============================] - 21s 214ms/step - loss: 0.5639 - acc: 0.6934 - val_loss: 0.5485 - val_acc: 0.7290\n",
      "Epoch 15/100\n",
      "100/100 [==============================] - 22s 223ms/step - loss: 0.5715 - acc: 0.6881 - val_loss: 0.5578 - val_acc: 0.7240\n",
      "Epoch 16/100\n",
      "100/100 [==============================] - 23s 234ms/step - loss: 0.5777 - acc: 0.6950 - val_loss: 0.5846 - val_acc: 0.6990\n",
      "Epoch 17/100\n",
      "100/100 [==============================] - 21s 214ms/step - loss: 0.5733 - acc: 0.6955 - val_loss: 0.4901 - val_acc: 0.7565\n",
      "Epoch 18/100\n",
      "100/100 [==============================] - 23s 233ms/step - loss: 0.5646 - acc: 0.7037 - val_loss: 0.5461 - val_acc: 0.7130\n",
      "Epoch 19/100\n",
      "100/100 [==============================] - 21s 214ms/step - loss: 0.5687 - acc: 0.7000 - val_loss: 0.5367 - val_acc: 0.7480\n",
      "Epoch 20/100\n",
      "100/100 [==============================] - 21s 214ms/step - loss: 0.5532 - acc: 0.7222 - val_loss: 0.5122 - val_acc: 0.7390\n",
      "Epoch 21/100\n",
      "100/100 [==============================] - 25s 247ms/step - loss: 0.5620 - acc: 0.7075 - val_loss: 0.5022 - val_acc: 0.7535\n",
      "Epoch 22/100\n",
      "100/100 [==============================] - 22s 217ms/step - loss: 0.5521 - acc: 0.7069 - val_loss: 0.4854 - val_acc: 0.7750\n",
      "Epoch 23/100\n",
      "100/100 [==============================] - 22s 222ms/step - loss: 0.5474 - acc: 0.7154 - val_loss: 0.4998 - val_acc: 0.7540\n",
      "Epoch 24/100\n",
      "100/100 [==============================] - 25s 246ms/step - loss: 0.5416 - acc: 0.7203 - val_loss: 0.4749 - val_acc: 0.7890\n",
      "Epoch 25/100\n",
      "100/100 [==============================] - 22s 217ms/step - loss: 0.5367 - acc: 0.7347 - val_loss: 0.4445 - val_acc: 0.8026\n",
      "Epoch 26/100\n",
      "100/100 [==============================] - 23s 233ms/step - loss: 0.5485 - acc: 0.7159 - val_loss: 0.5078 - val_acc: 0.7500\n",
      "Epoch 27/100\n",
      "100/100 [==============================] - 22s 219ms/step - loss: 0.5254 - acc: 0.7356 - val_loss: 0.4790 - val_acc: 0.7870\n",
      "Epoch 28/100\n",
      "100/100 [==============================] - 23s 227ms/step - loss: 0.5305 - acc: 0.7262 - val_loss: 0.4810 - val_acc: 0.7630\n",
      "Epoch 29/100\n",
      "100/100 [==============================] - 26s 263ms/step - loss: 0.5146 - acc: 0.7367 - val_loss: 0.4616 - val_acc: 0.7856\n",
      "Epoch 30/100\n",
      "100/100 [==============================] - 24s 240ms/step - loss: 0.5313 - acc: 0.7266 - val_loss: 0.4948 - val_acc: 0.7790\n",
      "Epoch 31/100\n",
      "100/100 [==============================] - 26s 255ms/step - loss: 0.4997 - acc: 0.7584 - val_loss: 0.4938 - val_acc: 0.7520\n",
      "Epoch 32/100\n",
      "100/100 [==============================] - 24s 244ms/step - loss: 0.5272 - acc: 0.7359 - val_loss: 0.4605 - val_acc: 0.7770\n",
      "Epoch 33/100\n",
      "100/100 [==============================] - 27s 267ms/step - loss: 0.5209 - acc: 0.7334 - val_loss: 0.5386 - val_acc: 0.7555\n",
      "Epoch 34/100\n",
      "100/100 [==============================] - 26s 256ms/step - loss: 0.5238 - acc: 0.7352 - val_loss: 0.4607 - val_acc: 0.7870\n",
      "Epoch 35/100\n",
      "100/100 [==============================] - 25s 248ms/step - loss: 0.5035 - acc: 0.7575 - val_loss: 0.4813 - val_acc: 0.7690\n",
      "Epoch 36/100\n",
      "100/100 [==============================] - 25s 248ms/step - loss: 0.5103 - acc: 0.7469 - val_loss: 0.4687 - val_acc: 0.7780\n",
      "Epoch 37/100\n",
      "100/100 [==============================] - 24s 235ms/step - loss: 0.5107 - acc: 0.7472 - val_loss: 0.4139 - val_acc: 0.8186\n",
      "Epoch 38/100\n",
      "100/100 [==============================] - 24s 237ms/step - loss: 0.5040 - acc: 0.7497 - val_loss: 0.4458 - val_acc: 0.7760\n",
      "Epoch 39/100\n",
      "100/100 [==============================] - 23s 227ms/step - loss: 0.5007 - acc: 0.7578 - val_loss: 0.4503 - val_acc: 0.8200\n",
      "Epoch 40/100\n",
      "100/100 [==============================] - 22s 216ms/step - loss: 0.4992 - acc: 0.7522 - val_loss: 0.4616 - val_acc: 0.7750\n",
      "Epoch 41/100\n",
      "100/100 [==============================] - 23s 232ms/step - loss: 0.5148 - acc: 0.7478 - val_loss: 0.4273 - val_acc: 0.7976\n",
      "Epoch 42/100\n",
      "100/100 [==============================] - 22s 217ms/step - loss: 0.5061 - acc: 0.7516 - val_loss: 0.4502 - val_acc: 0.8010\n",
      "Epoch 43/100\n",
      "100/100 [==============================] - 22s 225ms/step - loss: 0.4862 - acc: 0.7613 - val_loss: 0.4315 - val_acc: 0.7860\n",
      "Epoch 44/100\n",
      "100/100 [==============================] - 27s 269ms/step - loss: 0.4782 - acc: 0.7744 - val_loss: 0.4196 - val_acc: 0.8140\n",
      "Epoch 45/100\n",
      "100/100 [==============================] - 24s 237ms/step - loss: 0.4819 - acc: 0.7687 - val_loss: 0.6126 - val_acc: 0.6944\n",
      "Epoch 46/100\n",
      "100/100 [==============================] - 25s 246ms/step - loss: 0.4789 - acc: 0.7678 - val_loss: 0.4050 - val_acc: 0.8140\n",
      "Epoch 47/100\n",
      "100/100 [==============================] - 24s 239ms/step - loss: 0.4849 - acc: 0.7622 - val_loss: 0.4268 - val_acc: 0.8010\n",
      "Epoch 48/100\n",
      "100/100 [==============================] - 22s 218ms/step - loss: 0.5017 - acc: 0.7522 - val_loss: 0.4377 - val_acc: 0.7950\n",
      "Epoch 49/100\n",
      "100/100 [==============================] - 23s 232ms/step - loss: 0.4775 - acc: 0.7716 - val_loss: 0.3997 - val_acc: 0.8226\n",
      "Epoch 50/100\n",
      "100/100 [==============================] - 22s 218ms/step - loss: 0.4778 - acc: 0.7719 - val_loss: 0.4261 - val_acc: 0.7990\n",
      "Epoch 51/100\n",
      "100/100 [==============================] - 23s 225ms/step - loss: 0.4757 - acc: 0.7769 - val_loss: 0.4332 - val_acc: 0.8050\n",
      "Epoch 52/100\n",
      "100/100 [==============================] - 23s 226ms/step - loss: 0.4706 - acc: 0.7722 - val_loss: 0.4926 - val_acc: 0.7730\n",
      "Epoch 53/100\n",
      "100/100 [==============================] - 22s 216ms/step - loss: 0.4667 - acc: 0.7744 - val_loss: 0.4089 - val_acc: 0.8126\n",
      "Epoch 54/100\n",
      "100/100 [==============================] - 23s 234ms/step - loss: 0.4770 - acc: 0.7750 - val_loss: 0.4251 - val_acc: 0.8080\n",
      "Epoch 55/100\n",
      "100/100 [==============================] - 22s 220ms/step - loss: 0.4769 - acc: 0.7762 - val_loss: 0.4128 - val_acc: 0.8140\n",
      "Epoch 56/100\n",
      "100/100 [==============================] - 22s 218ms/step - loss: 0.4663 - acc: 0.7837 - val_loss: 0.4162 - val_acc: 0.8220\n",
      "Epoch 57/100\n",
      "100/100 [==============================] - 23s 231ms/step - loss: 0.4661 - acc: 0.7844 - val_loss: 0.4332 - val_acc: 0.8006\n",
      "Epoch 58/100\n",
      "100/100 [==============================] - 22s 216ms/step - loss: 0.4571 - acc: 0.7822 - val_loss: 0.4484 - val_acc: 0.8110\n",
      "Epoch 59/100\n",
      "100/100 [==============================] - 22s 224ms/step - loss: 0.4591 - acc: 0.7816 - val_loss: 0.3650 - val_acc: 0.8380\n",
      "Epoch 60/100\n",
      "100/100 [==============================] - 24s 239ms/step - loss: 0.4523 - acc: 0.7922 - val_loss: 0.3910 - val_acc: 0.8160\n"
     ]
    },
    {
     "name": "stdout",
     "output_type": "stream",
     "text": [
      "Epoch 61/100\n",
      "100/100 [==============================] - 22s 216ms/step - loss: 0.4598 - acc: 0.7853 - val_loss: 0.4065 - val_acc: 0.8156\n",
      "Epoch 62/100\n",
      "100/100 [==============================] - 23s 230ms/step - loss: 0.4552 - acc: 0.7824 - val_loss: 0.4015 - val_acc: 0.8130\n",
      "Epoch 63/100\n",
      "100/100 [==============================] - 22s 218ms/step - loss: 0.4385 - acc: 0.7931 - val_loss: 0.4696 - val_acc: 0.7950\n",
      "Epoch 64/100\n",
      "100/100 [==============================] - 22s 217ms/step - loss: 0.4534 - acc: 0.7903 - val_loss: 0.3812 - val_acc: 0.8280\n",
      "Epoch 65/100\n",
      "100/100 [==============================] - 23s 235ms/step - loss: 0.4579 - acc: 0.7837 - val_loss: 0.3561 - val_acc: 0.8497\n",
      "Epoch 66/100\n",
      "100/100 [==============================] - 21s 215ms/step - loss: 0.4636 - acc: 0.7869 - val_loss: 0.4965 - val_acc: 0.7530\n",
      "Epoch 67/100\n",
      "100/100 [==============================] - 22s 222ms/step - loss: 0.4475 - acc: 0.7903 - val_loss: 0.4067 - val_acc: 0.8140\n",
      "Epoch 68/100\n",
      "100/100 [==============================] - 23s 229ms/step - loss: 0.4551 - acc: 0.7861 - val_loss: 0.3575 - val_acc: 0.8490\n",
      "Epoch 69/100\n",
      "100/100 [==============================] - 22s 215ms/step - loss: 0.4549 - acc: 0.7841 - val_loss: 0.4175 - val_acc: 0.8307\n",
      "Epoch 70/100\n",
      "100/100 [==============================] - 23s 235ms/step - loss: 0.4348 - acc: 0.7997 - val_loss: 0.4420 - val_acc: 0.8140\n",
      "Epoch 71/100\n",
      "100/100 [==============================] - 22s 215ms/step - loss: 0.4460 - acc: 0.7812 - val_loss: 0.4523 - val_acc: 0.8010\n",
      "Epoch 72/100\n",
      "100/100 [==============================] - 22s 218ms/step - loss: 0.4348 - acc: 0.7956 - val_loss: 0.3747 - val_acc: 0.8350\n",
      "Epoch 73/100\n",
      "100/100 [==============================] - 23s 230ms/step - loss: 0.4344 - acc: 0.8000 - val_loss: 0.3497 - val_acc: 0.8387\n",
      "Epoch 74/100\n",
      "100/100 [==============================] - 22s 218ms/step - loss: 0.4289 - acc: 0.8048 - val_loss: 0.4191 - val_acc: 0.8110\n",
      "Epoch 75/100\n",
      "100/100 [==============================] - 22s 223ms/step - loss: 0.4115 - acc: 0.8066 - val_loss: 0.3418 - val_acc: 0.8530\n",
      "Epoch 76/100\n",
      "100/100 [==============================] - 23s 230ms/step - loss: 0.4477 - acc: 0.7953 - val_loss: 0.3765 - val_acc: 0.8440\n",
      "Epoch 77/100\n",
      "100/100 [==============================] - 22s 219ms/step - loss: 0.4386 - acc: 0.7925 - val_loss: 0.3880 - val_acc: 0.8287\n",
      "Epoch 78/100\n",
      "100/100 [==============================] - 24s 241ms/step - loss: 0.4123 - acc: 0.8131 - val_loss: 0.3824 - val_acc: 0.8290\n",
      "Epoch 79/100\n",
      "100/100 [==============================] - 22s 218ms/step - loss: 0.4307 - acc: 0.8012 - val_loss: 0.3800 - val_acc: 0.8370\n",
      "Epoch 80/100\n",
      "100/100 [==============================] - 22s 220ms/step - loss: 0.4173 - acc: 0.8178 - val_loss: 0.3505 - val_acc: 0.8500\n",
      "Epoch 81/100\n",
      "100/100 [==============================] - 24s 240ms/step - loss: 0.4300 - acc: 0.8053 - val_loss: 0.3648 - val_acc: 0.8317\n",
      "Epoch 82/100\n",
      "100/100 [==============================] - 22s 222ms/step - loss: 0.4170 - acc: 0.7978 - val_loss: 0.3794 - val_acc: 0.8460\n",
      "Epoch 83/100\n",
      "100/100 [==============================] - 23s 232ms/step - loss: 0.4124 - acc: 0.8134 - val_loss: 0.3380 - val_acc: 0.8480\n",
      "Epoch 84/100\n",
      "100/100 [==============================] - 23s 230ms/step - loss: 0.4262 - acc: 0.7997 - val_loss: 0.3904 - val_acc: 0.8340\n",
      "Epoch 85/100\n",
      "100/100 [==============================] - 22s 219ms/step - loss: 0.4187 - acc: 0.8116 - val_loss: 0.3086 - val_acc: 0.8627\n",
      "Epoch 86/100\n",
      "100/100 [==============================] - 23s 234ms/step - loss: 0.3984 - acc: 0.8213 - val_loss: 0.3978 - val_acc: 0.8370\n",
      "Epoch 87/100\n",
      "100/100 [==============================] - 22s 225ms/step - loss: 0.4311 - acc: 0.8028 - val_loss: 0.4114 - val_acc: 0.8200\n",
      "Epoch 88/100\n",
      "100/100 [==============================] - 22s 216ms/step - loss: 0.4075 - acc: 0.8106 - val_loss: 0.4014 - val_acc: 0.8180\n",
      "Epoch 89/100\n",
      "100/100 [==============================] - 24s 237ms/step - loss: 0.4132 - acc: 0.8134 - val_loss: 0.3334 - val_acc: 0.8647\n",
      "Epoch 90/100\n",
      "100/100 [==============================] - 23s 233ms/step - loss: 0.4190 - acc: 0.8037 - val_loss: 0.3652 - val_acc: 0.8380\n",
      "Epoch 91/100\n",
      "100/100 [==============================] - 26s 260ms/step - loss: 0.3974 - acc: 0.8243 - val_loss: 0.4312 - val_acc: 0.7840\n",
      "Epoch 92/100\n",
      "100/100 [==============================] - 21s 211ms/step - loss: 0.4040 - acc: 0.8128 - val_loss: 0.3448 - val_acc: 0.8590\n",
      "Epoch 93/100\n",
      "100/100 [==============================] - 21s 213ms/step - loss: 0.4119 - acc: 0.8109 - val_loss: 0.3547 - val_acc: 0.8357\n",
      "Epoch 94/100\n",
      "100/100 [==============================] - 23s 230ms/step - loss: 0.4126 - acc: 0.8106 - val_loss: 0.3369 - val_acc: 0.8460\n",
      "Epoch 95/100\n",
      "100/100 [==============================] - 21s 206ms/step - loss: 0.4067 - acc: 0.8125 - val_loss: 0.3353 - val_acc: 0.8440\n",
      "Epoch 96/100\n",
      "100/100 [==============================] - 20s 203ms/step - loss: 0.3975 - acc: 0.8193 - val_loss: 0.4037 - val_acc: 0.8310\n",
      "Epoch 97/100\n",
      "100/100 [==============================] - 22s 217ms/step - loss: 0.3934 - acc: 0.8231 - val_loss: 0.3752 - val_acc: 0.8427\n",
      "Epoch 98/100\n",
      "100/100 [==============================] - 21s 206ms/step - loss: 0.4061 - acc: 0.8141 - val_loss: 0.3456 - val_acc: 0.8470\n",
      "Epoch 99/100\n",
      "100/100 [==============================] - 21s 206ms/step - loss: 0.3972 - acc: 0.8187 - val_loss: 0.3342 - val_acc: 0.8670\n",
      "Epoch 100/100\n",
      "100/100 [==============================] - 22s 218ms/step - loss: 0.3995 - acc: 0.8263 - val_loss: 0.3405 - val_acc: 0.8510\n"
     ]
    }
   ],
   "source": [
    "history = model.fit_generator(\n",
    "                train_generator,\n",
    "                steps_per_epoch=100,\n",
    "                epochs=100,\n",
    "                validation_data=validation_generator,\n",
    "                validation_steps=50)"
   ]
  },
  {
   "cell_type": "code",
   "execution_count": 20,
   "metadata": {},
   "outputs": [],
   "source": [
    "model.save('cats_and_dogs_small.md')"
   ]
  },
  {
   "cell_type": "code",
   "execution_count": 23,
   "metadata": {},
   "outputs": [
    {
     "data": {
      "text/plain": [
       "<matplotlib.legend.Legend at 0x2bf2ebd3358>"
      ]
     },
     "execution_count": 23,
     "metadata": {},
     "output_type": "execute_result"
    },
    {
     "data": {
      "image/png": "[encoded data removed]",
      "text/plain": [
       "<Figure size 432x288 with 1 Axes>"
      ]
     },
     "metadata": {
      "needs_background": "light"
     },
     "output_type": "display_data"
    }
   ],
   "source": [
    "import matplotlib.pyplot as plt\n",
    "acc = history.history['acc']\n",
    "val_acc = history.history['val_acc']\n",
    "loss = history.history['loss']\n",
    "val_loss = history.history['val_loss']\n",
    "epochs = range(1, len(acc) + 1)\n",
    "plt.plot(epochs, acc, 'bo', label='Training acc')\n",
    "plt.plot(epochs, val_acc, 'b', label='Validation acc')\n",
    "plt.title('Training and validation accuracy')\n",
    "plt.legend()"
   ]
  },
  {
   "cell_type": "code",
   "execution_count": 24,
   "metadata": {},
   "outputs": [
    {
     "data": {
      "image/png": "[encoded data removed]",
      "text/plain": [
       "<Figure size 432x288 with 1 Axes>"
      ]
     },
     "metadata": {
      "needs_background": "light"
     },
     "output_type": "display_data"
    }
   ],
   "source": [
    "\n",
    "plt.figure()\n",
    "plt.plot(epochs, loss, 'bo', label='Training loss')\n",
    "plt.plot(epochs, val_loss, 'b', label='Validation loss')\n",
    "plt.title('Training and validation loss')\n",
    "plt.legend()\n",
    "plt.show()"
   ]
  },
  {
   "cell_type": "code",
   "execution_count": null,
   "metadata": {},
   "outputs": [],
   "source": []
  }
 ],
 "metadata": {
  "kernelspec": {
   "display_name": "Python 3",
   "language": "python",
   "name": "python3"
  },
  "language_info": {
   "codemirror_mode": {
    "name": "ipython",
    "version": 3
   },
   "file_extension": ".py",
   "mimetype": "text/x-python",
   "name": "python",
   "nbconvert_exporter": "python",
   "pygments_lexer": "ipython3",
   "version": "3.6.8"
  }
 },
 "nbformat": 4,
 "nbformat_minor": 2
}
