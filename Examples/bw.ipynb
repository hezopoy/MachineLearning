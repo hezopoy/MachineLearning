{
  "nbformat": 4,
  "nbformat_minor": 0,
  "metadata": {
    "colab": {
      "name": "bw.ipynb",
      "version": "0.3.2",
      "provenance": []
    },
    "kernelspec": {
      "name": "python3",
      "display_name": "Python 3"
    },
    "accelerator": "GPU"
  },
  "cells": [
    {
      "metadata": {
        "id": "lH6-CRPZBMR1",
        "colab_type": "code",
        "outputId": "df601cf1-a93a-498e-bdfe-3b68337aea9f",
        "colab": {
          "base_uri": "https://localhost:8080/",
          "height": 122
        }
      },
      "cell_type": "code",
      "source": [
        "!apt-get install -y -qq software-properties-common python-software-properties module-init-tools\n",
        "!add-apt-repository -y ppa:alessandro-strada/ppa 2>&1 > /dev/null\n",
        "!apt-get update -qq 2>&1 > /dev/null\n",
        "!apt-get -y install -qq google-drive-ocamlfuse fuse\n",
        "from google.colab import auth\n",
        "auth.authenticate_user()\n",
        "from oauth2client.client import GoogleCredentials\n",
        "creds = GoogleCredentials.get_application_default()\n",
        "import getpass\n",
        "!google-drive-ocamlfuse -headless -id={creds.client_id} -secret={creds.client_secret} < /dev/null 2>&1 | grep URL\n",
        "vcode = getpass.getpass()\n",
        "!echo {vcode} | google-drive-ocamlfuse -headless -id={creds.client_id} -secret={creds.client_secret}"
      ],
      "execution_count": 0,
      "outputs": [
        {
          "output_type": "stream",
          "text": [
            "E: Package 'python-software-properties' has no installation candidate\n",
            "Please, open the following URL in a web browser: https://accounts.google.com/o/oauth2/auth?client_id=32555940559.apps.googleusercontent.com&redirect_uri=urn%3Aietf%3Awg%3Aoauth%3A2.0%3Aoob&scope=https%3A%2F%2Fwww.googleapis.com%2Fauth%2Fdrive&response_type=code&access_type=offline&approval_prompt=force\n",
            "··········\n",
            "Please, open the following URL in a web browser: https://accounts.google.com/o/oauth2/auth?client_id=32555940559.apps.googleusercontent.com&redirect_uri=urn%3Aietf%3Awg%3Aoauth%3A2.0%3Aoob&scope=https%3A%2F%2Fwww.googleapis.com%2Fauth%2Fdrive&response_type=code&access_type=offline&approval_prompt=force\n",
            "Please enter the verification code: Access token retrieved correctly.\n"
          ],
          "name": "stdout"
        }
      ]
    },
    {
      "metadata": {
        "id": "1sDV6kJ8BTbH",
        "colab_type": "code",
        "outputId": "d3631da1-0b01-4a91-b83a-867caf2dbba1",
        "colab": {
          "base_uri": "https://localhost:8080/",
          "height": 34
        }
      },
      "cell_type": "code",
      "source": [
        "!mkdir -p drive\n",
        "!google-drive-ocamlfuse drive"
      ],
      "execution_count": 0,
      "outputs": [
        {
          "output_type": "stream",
          "text": [
            "/bin/bash: google-drive-ocamlfuse: command not found\n"
          ],
          "name": "stdout"
        }
      ]
    },
    {
      "metadata": {
        "id": "ZvVvxqrYB-kG",
        "colab_type": "code",
        "outputId": "82a8848c-e81c-48a1-fc55-633c8837325b",
        "colab": {
          "base_uri": "https://localhost:8080/",
          "height": 153
        }
      },
      "cell_type": "code",
      "source": [
        "!pip install keras"
      ],
      "execution_count": 0,
      "outputs": [
        {
          "output_type": "stream",
          "text": [
            "Requirement already satisfied: keras in /usr/local/lib/python3.6/dist-packages (2.2.4)\n",
            "Requirement already satisfied: pyyaml in /usr/local/lib/python3.6/dist-packages (from keras) (3.13)\n",
            "Requirement already satisfied: keras-preprocessing>=1.0.5 in /usr/local/lib/python3.6/dist-packages (from keras) (1.0.9)\n",
            "Requirement already satisfied: h5py in /usr/local/lib/python3.6/dist-packages (from keras) (2.8.0)\n",
            "Requirement already satisfied: keras-applications>=1.0.6 in /usr/local/lib/python3.6/dist-packages (from keras) (1.0.7)\n",
            "Requirement already satisfied: scipy>=0.14 in /usr/local/lib/python3.6/dist-packages (from keras) (1.2.1)\n",
            "Requirement already satisfied: six>=1.9.0 in /usr/local/lib/python3.6/dist-packages (from keras) (1.11.0)\n",
            "Requirement already satisfied: numpy>=1.9.1 in /usr/local/lib/python3.6/dist-packages (from keras) (1.16.2)\n"
          ],
          "name": "stdout"
        }
      ]
    },
    {
      "metadata": {
        "id": "P14xgsQLCS39",
        "colab_type": "code",
        "outputId": "78345faa-3c5e-43c7-dbc6-8014a8fc5c17",
        "colab": {
          "base_uri": "https://localhost:8080/",
          "height": 51
        }
      },
      "cell_type": "code",
      "source": [
        "!pip install -U -q PyDrive\n",
        "from pydrive.auth import GoogleAuth\n",
        "from pydrive.drive import GoogleDrive\n",
        "from google.colab import auth\n",
        "from oauth2client.client import GoogleCredentials\n",
        "import os\n",
        "import pandas as pd\n",
        "auth.authenticate_user()\n",
        "gauth = GoogleAuth()\n",
        "gauth.credentials = GoogleCredentials.get_application_default()\n",
        "drive = GoogleDrive(gauth)"
      ],
      "execution_count": 0,
      "outputs": [
        {
          "output_type": "stream",
          "text": [
            "\u001b[?25l\r\u001b[K    1% |▎                               | 10kB 20.0MB/s eta 0:00:01\r\u001b[K    2% |▋                               | 20kB 24.5MB/s eta 0:00:01\r\u001b[K    3% |█                               | 30kB 28.8MB/s eta 0:00:01\r\u001b[K    4% |█▎                              | 40kB 32.1MB/s eta 0:00:01\r\u001b[K    5% |█▋                              | 51kB 35.2MB/s eta 0:00:01\r\u001b[K    6% |██                              | 61kB 38.1MB/s eta 0:00:01\r\u001b[K    7% |██▎                             | 71kB 36.4MB/s eta 0:00:01\r\u001b[K    8% |██▋                             | 81kB 36.3MB/s eta 0:00:01\r\u001b[K    9% |███                             | 92kB 38.0MB/s eta 0:00:01\r\u001b[K    10% |███▎                            | 102kB 39.6MB/s eta 0:00:01\r\u001b[K    11% |███▋                            | 112kB 44.2MB/s eta 0:00:01\r\u001b[K    12% |████                            | 122kB 48.0MB/s eta 0:00:01\r\u001b[K    13% |████▎                           | 133kB 44.7MB/s eta 0:00:01\r\u001b[K    14% |████▋                           | 143kB 45.8MB/s eta 0:00:01\r\u001b[K    15% |█████                           | 153kB 45.1MB/s eta 0:00:01\r\u001b[K    16% |█████▎                          | 163kB 44.7MB/s eta 0:00:01\r\u001b[K    17% |█████▋                          | 174kB 46.3MB/s eta 0:00:01\r\u001b[K    18% |██████                          | 184kB 48.4MB/s eta 0:00:01\r\u001b[K    19% |██████▎                         | 194kB 49.0MB/s eta 0:00:01\r\u001b[K    20% |██████▋                         | 204kB 41.6MB/s eta 0:00:01\r\u001b[K    21% |███████                         | 215kB 41.7MB/s eta 0:00:01\r\u001b[K    22% |███████▎                        | 225kB 42.0MB/s eta 0:00:01\r\u001b[K    23% |███████▋                        | 235kB 46.9MB/s eta 0:00:01\r\u001b[K    24% |████████                        | 245kB 47.2MB/s eta 0:00:01\r\u001b[K    25% |████████▎                       | 256kB 48.0MB/s eta 0:00:01\r\u001b[K    26% |████████▋                       | 266kB 42.0MB/s eta 0:00:01\r\u001b[K    27% |█████████                       | 276kB 43.7MB/s eta 0:00:01\r\u001b[K    29% |█████████▎                      | 286kB 44.3MB/s eta 0:00:01\r\u001b[K    30% |█████████▋                      | 296kB 43.9MB/s eta 0:00:01\r\u001b[K    31% |██████████                      | 307kB 53.0MB/s eta 0:00:01\r\u001b[K    32% |██████████▎                     | 317kB 56.2MB/s eta 0:00:01\r\u001b[K    33% |██████████▋                     | 327kB 53.6MB/s eta 0:00:01\r\u001b[K    34% |███████████                     | 337kB 53.8MB/s eta 0:00:01\r\u001b[K    35% |███████████▎                    | 348kB 46.2MB/s eta 0:00:01\r\u001b[K    36% |███████████▋                    | 358kB 46.8MB/s eta 0:00:01\r\u001b[K    37% |████████████                    | 368kB 54.6MB/s eta 0:00:01\r\u001b[K    38% |████████████▎                   | 378kB 55.6MB/s eta 0:00:01\r\u001b[K    39% |████████████▋                   | 389kB 56.7MB/s eta 0:00:01\r\u001b[K    40% |█████████████                   | 399kB 57.8MB/s eta 0:00:01\r\u001b[K    41% |█████████████▎                  | 409kB 57.1MB/s eta 0:00:01\r\u001b[K    42% |█████████████▋                  | 419kB 57.3MB/s eta 0:00:01\r\u001b[K    43% |██████████████                  | 430kB 59.4MB/s eta 0:00:01\r\u001b[K    44% |██████████████▎                 | 440kB 58.7MB/s eta 0:00:01\r\u001b[K    45% |██████████████▋                 | 450kB 64.9MB/s eta 0:00:01\r\u001b[K    46% |███████████████                 | 460kB 62.8MB/s eta 0:00:01\r\u001b[K    47% |███████████████▎                | 471kB 64.2MB/s eta 0:00:01\r\u001b[K    48% |███████████████▋                | 481kB 64.9MB/s eta 0:00:01\r\u001b[K    49% |████████████████                | 491kB 65.0MB/s eta 0:00:01\r\u001b[K    50% |████████████████▎               | 501kB 63.2MB/s eta 0:00:01\r\u001b[K    51% |████████████████▋               | 512kB 57.7MB/s eta 0:00:01\r\u001b[K    52% |█████████████████               | 522kB 57.0MB/s eta 0:00:01\r\u001b[K    53% |█████████████████▎              | 532kB 56.2MB/s eta 0:00:01\r\u001b[K    54% |█████████████████▋              | 542kB 55.8MB/s eta 0:00:01\r\u001b[K    55% |██████████████████              | 552kB 60.8MB/s eta 0:00:01\r\u001b[K    57% |██████████████████▎             | 563kB 62.6MB/s eta 0:00:01\r\u001b[K    58% |██████████████████▋             | 573kB 62.7MB/s eta 0:00:01\r\u001b[K    59% |███████████████████             | 583kB 63.1MB/s eta 0:00:01\r\u001b[K    60% |███████████████████▎            | 593kB 62.3MB/s eta 0:00:01\r\u001b[K    61% |███████████████████▋            | 604kB 63.8MB/s eta 0:00:01\r\u001b[K    62% |████████████████████            | 614kB 70.9MB/s eta 0:00:01\r\u001b[K    63% |████████████████████▎           | 624kB 70.3MB/s eta 0:00:01\r\u001b[K    64% |████████████████████▋           | 634kB 73.2MB/s eta 0:00:01\r\u001b[K    65% |█████████████████████           | 645kB 74.7MB/s eta 0:00:01\r\u001b[K    66% |█████████████████████▎          | 655kB 75.5MB/s eta 0:00:01\r\u001b[K    67% |█████████████████████▋          | 665kB 51.8MB/s eta 0:00:01\r\u001b[K    68% |██████████████████████          | 675kB 51.2MB/s eta 0:00:01\r\u001b[K    69% |██████████████████████▎         | 686kB 51.3MB/s eta 0:00:01\r\u001b[K    70% |██████████████████████▋         | 696kB 51.5MB/s eta 0:00:01\r\u001b[K    71% |███████████████████████         | 706kB 51.1MB/s eta 0:00:01\r\u001b[K    72% |███████████████████████▎        | 716kB 51.8MB/s eta 0:00:01\r\u001b[K    73% |███████████████████████▋        | 727kB 51.5MB/s eta 0:00:01\r\u001b[K    74% |████████████████████████        | 737kB 50.8MB/s eta 0:00:01\r\u001b[K    75% |████████████████████████▎       | 747kB 51.1MB/s eta 0:00:01\r\u001b[K    76% |████████████████████████▋       | 757kB 51.1MB/s eta 0:00:01\r\u001b[K    77% |████████████████████████▉       | 768kB 75.8MB/s eta 0:00:01\r\u001b[K    78% |█████████████████████████▏      | 778kB 77.0MB/s eta 0:00:01\r\u001b[K    79% |█████████████████████████▌      | 788kB 76.0MB/s eta 0:00:01\r\u001b[K    80% |█████████████████████████▉      | 798kB 77.2MB/s eta 0:00:01\r\u001b[K    81% |██████████████████████████▏     | 808kB 77.7MB/s eta 0:00:01\r\u001b[K    82% |██████████████████████████▌     | 819kB 76.8MB/s eta 0:00:01\r\u001b[K    83% |██████████████████████████▉     | 829kB 79.7MB/s eta 0:00:01\r\u001b[K    85% |███████████████████████████▏    | 839kB 81.3MB/s eta 0:00:01\r\u001b[K    86% |███████████████████████████▌    | 849kB 81.4MB/s eta 0:00:01\r\u001b[K    87% |███████████████████████████▉    | 860kB 69.6MB/s eta 0:00:01\r\u001b[K    88% |████████████████████████████▏   | 870kB 66.6MB/s eta 0:00:01\r\u001b[K    89% |████████████████████████████▌   | 880kB 67.6MB/s eta 0:00:01\r\u001b[K    90% |████████████████████████████▉   | 890kB 67.9MB/s eta 0:00:01\r\u001b[K    91% |█████████████████████████████▏  | 901kB 67.5MB/s eta 0:00:01\r\u001b[K    92% |█████████████████████████████▌  | 911kB 68.9MB/s eta 0:00:01\r\u001b[K    93% |█████████████████████████████▉  | 921kB 68.7MB/s eta 0:00:01\r\u001b[K    94% |██████████████████████████████▏ | 931kB 68.9MB/s eta 0:00:01\r\u001b[K    95% |██████████████████████████████▌ | 942kB 69.1MB/s eta 0:00:01\r\u001b[K    96% |██████████████████████████████▉ | 952kB 67.5MB/s eta 0:00:01\r\u001b[K    97% |███████████████████████████████▏| 962kB 79.5MB/s eta 0:00:01\r\u001b[K    98% |███████████████████████████████▌| 972kB 83.5MB/s eta 0:00:01\r\u001b[K    99% |███████████████████████████████▉| 983kB 83.3MB/s eta 0:00:01\r\u001b[K    100% |████████████████████████████████| 993kB 22.3MB/s \n",
            "\u001b[?25h  Building wheel for PyDrive (setup.py) ... \u001b[?25ldone\n",
            "\u001b[?25h"
          ],
          "name": "stdout"
        }
      ]
    },
    {
      "metadata": {
        "id": "qrTcNlQTCUyd",
        "colab_type": "code",
        "outputId": "e23e57ab-2a3a-4881-8441-b1f4e381d8b0",
        "colab": {
          "base_uri": "https://localhost:8080/",
          "height": 34
        }
      },
      "cell_type": "code",
      "source": [
        "train_dir = '/content/drive/Data/Train'\n",
        "from keras.preprocessing.image import ImageDataGenerator\n",
        "train_datagen = ImageDataGenerator(\n",
        "                rescale=1./255,\n",
        "                width_shift_range=0.09,\n",
        "                height_shift_range=0.18,\n",
        "                shear_range=0.15,\n",
        "                zoom_range=0.1,\n",
        "                horizontal_flip=True,\n",
        "                fill_mode='nearest')\n",
        "train_generator = train_datagen.flow_from_directory(\n",
        "                train_dir,\n",
        "                target_size=(256, 256),\n",
        "                batch_size=128,\n",
        "                class_mode='categorical')"
      ],
      "execution_count": 0,
      "outputs": [
        {
          "output_type": "stream",
          "text": [
            "Found 173 images belonging to 4 classes.\n"
          ],
          "name": "stdout"
        }
      ]
    },
    {
      "metadata": {
        "id": "VOaQhUcVXpkt",
        "colab_type": "code",
        "outputId": "eab3b813-ad58-4ce0-b81c-9e58f3a2cfe4",
        "colab": {
          "base_uri": "https://localhost:8080/",
          "height": 374
        }
      },
      "cell_type": "code",
      "source": [
        "from keras import layers\n",
        "from keras import models\n",
        "from keras import applications\n",
        "model = models.Sequential()\n",
        "conv_base = applications.VGG16(weights='imagenet', \n",
        "                               include_top=False, \n",
        "                               input_shape=[256, 256, 3]) \n",
        "conv_base.trainable = False\n",
        "model.add(conv_base)\n",
        "model.add(layers.Flatten())\n",
        "model.add(layers.Dense(1024, activation='relu'))\n",
        "model.add(layers.Dropout(0.5))\n",
        "model.add(layers.Dense(512, activation='relu'))\n",
        "model.add(layers.Dropout(0.5))\n",
        "model.add(layers.Dense(4, activation='softmax'))\n",
        "\n",
        "from keras import optimizers\n",
        "model.compile(loss='categorical_crossentropy',\n",
        "                optimizer=optimizers.RMSprop(lr=2e-5),\n",
        "                metrics=['acc'])\n",
        "\n",
        "model.summary()"
      ],
      "execution_count": 0,
      "outputs": [
        {
          "output_type": "stream",
          "text": [
            "_________________________________________________________________\n",
            "Layer (type)                 Output Shape              Param #   \n",
            "=================================================================\n",
            "vgg16 (Model)                (None, 8, 8, 512)         14714688  \n",
            "_________________________________________________________________\n",
            "flatten_2 (Flatten)          (None, 32768)             0         \n",
            "_________________________________________________________________\n",
            "dense_4 (Dense)              (None, 1024)              33555456  \n",
            "_________________________________________________________________\n",
            "dropout_3 (Dropout)          (None, 1024)              0         \n",
            "_________________________________________________________________\n",
            "dense_5 (Dense)              (None, 512)               524800    \n",
            "_________________________________________________________________\n",
            "dropout_4 (Dropout)          (None, 512)               0         \n",
            "_________________________________________________________________\n",
            "dense_6 (Dense)              (None, 4)                 2052      \n",
            "=================================================================\n",
            "Total params: 48,796,996\n",
            "Trainable params: 34,082,308\n",
            "Non-trainable params: 14,714,688\n",
            "_________________________________________________________________\n"
          ],
          "name": "stdout"
        }
      ]
    },
    {
      "metadata": {
        "id": "l7FfGQTsaTzQ",
        "colab_type": "code",
        "outputId": "baffc16f-97be-4d13-8782-86c107e75af2",
        "colab": {
          "base_uri": "https://localhost:8080/",
          "height": 1717
        }
      },
      "cell_type": "code",
      "source": [
        "from keras import callbacks\n",
        "mc = callbacks.ModelCheckpoint('weights{epoch:08d}.h5', \n",
        "                                     save_weights_only=True, period=10)\n",
        "history = model.fit_generator(\n",
        "                train_generator,\n",
        "                steps_per_epoch=50,\n",
        "                epochs=50,\n",
        "                callbacks=[mc]\n",
        "                )"
      ],
      "execution_count": 0,
      "outputs": [
        {
          "output_type": "stream",
          "text": [
            "Epoch 1/50\n",
            "50/50 [==============================] - 77s 2s/step - loss: 1.1219 - acc: 0.5294\n",
            "Epoch 2/50\n",
            "50/50 [==============================] - 71s 1s/step - loss: 0.8057 - acc: 0.6725\n",
            "Epoch 3/50\n",
            "50/50 [==============================] - 72s 1s/step - loss: 0.6499 - acc: 0.7389\n",
            "Epoch 4/50\n",
            "50/50 [==============================] - 71s 1s/step - loss: 0.5505 - acc: 0.7842\n",
            "Epoch 5/50\n",
            "50/50 [==============================] - 70s 1s/step - loss: 0.4688 - acc: 0.8203\n",
            "Epoch 6/50\n",
            "50/50 [==============================] - 70s 1s/step - loss: 0.4269 - acc: 0.8406\n",
            "Epoch 7/50\n",
            "50/50 [==============================] - 72s 1s/step - loss: 0.3492 - acc: 0.8708\n",
            "Epoch 8/50\n",
            "50/50 [==============================] - 70s 1s/step - loss: 0.3381 - acc: 0.8739\n",
            "Epoch 9/50\n",
            "50/50 [==============================] - 71s 1s/step - loss: 0.3022 - acc: 0.8903\n",
            "Epoch 10/50\n",
            "50/50 [==============================] - 71s 1s/step - loss: 0.2725 - acc: 0.8980\n",
            "Epoch 11/50\n",
            "50/50 [==============================] - 72s 1s/step - loss: 0.2485 - acc: 0.9088\n",
            "Epoch 12/50\n",
            "50/50 [==============================] - 72s 1s/step - loss: 0.2256 - acc: 0.9238\n",
            "Epoch 13/50\n",
            "50/50 [==============================] - 71s 1s/step - loss: 0.2111 - acc: 0.9216\n",
            "Epoch 14/50\n",
            "50/50 [==============================] - 76s 2s/step - loss: 0.1791 - acc: 0.9389\n",
            "Epoch 15/50\n",
            "50/50 [==============================] - 70s 1s/step - loss: 0.1662 - acc: 0.9413\n",
            "Epoch 16/50\n",
            "50/50 [==============================] - 75s 2s/step - loss: 0.1660 - acc: 0.9383\n",
            "Epoch 17/50\n",
            "50/50 [==============================] - 71s 1s/step - loss: 0.1504 - acc: 0.9487\n",
            "Epoch 18/50\n",
            "50/50 [==============================] - 71s 1s/step - loss: 0.1449 - acc: 0.9485\n",
            "Epoch 19/50\n",
            "50/50 [==============================] - 70s 1s/step - loss: 0.1339 - acc: 0.9534\n",
            "Epoch 20/50\n",
            "50/50 [==============================] - 71s 1s/step - loss: 0.1265 - acc: 0.9562\n",
            "Epoch 21/50\n",
            "50/50 [==============================] - 70s 1s/step - loss: 0.1106 - acc: 0.9626\n",
            "Epoch 22/50\n",
            "50/50 [==============================] - 71s 1s/step - loss: 0.1110 - acc: 0.9604\n",
            "Epoch 23/50\n",
            "50/50 [==============================] - 70s 1s/step - loss: 0.1125 - acc: 0.9593\n",
            "Epoch 24/50\n",
            "50/50 [==============================] - 70s 1s/step - loss: 0.1068 - acc: 0.9586\n",
            "Epoch 25/50\n",
            "50/50 [==============================] - 72s 1s/step - loss: 0.0959 - acc: 0.9649\n",
            "Epoch 26/50\n",
            "50/50 [==============================] - 70s 1s/step - loss: 0.0902 - acc: 0.9681\n",
            "Epoch 27/50\n",
            "50/50 [==============================] - 70s 1s/step - loss: 0.0888 - acc: 0.9686\n",
            "Epoch 28/50\n",
            "50/50 [==============================] - 71s 1s/step - loss: 0.0831 - acc: 0.9725\n",
            "Epoch 29/50\n",
            "50/50 [==============================] - 71s 1s/step - loss: 0.0794 - acc: 0.9699\n",
            "Epoch 30/50\n",
            "50/50 [==============================] - 70s 1s/step - loss: 0.0681 - acc: 0.9773\n",
            "Epoch 31/50\n",
            "50/50 [==============================] - 70s 1s/step - loss: 0.0674 - acc: 0.9763\n",
            "Epoch 32/50\n",
            "50/50 [==============================] - 69s 1s/step - loss: 0.0671 - acc: 0.9755\n",
            "Epoch 33/50\n",
            "50/50 [==============================] - 72s 1s/step - loss: 0.0683 - acc: 0.9755\n",
            "Epoch 34/50\n",
            "50/50 [==============================] - 71s 1s/step - loss: 0.0703 - acc: 0.9750\n",
            "Epoch 35/50\n",
            "50/50 [==============================] - 70s 1s/step - loss: 0.0609 - acc: 0.9775\n",
            "Epoch 36/50\n",
            "50/50 [==============================] - 70s 1s/step - loss: 0.0633 - acc: 0.9786\n",
            "Epoch 37/50\n",
            "50/50 [==============================] - 70s 1s/step - loss: 0.0593 - acc: 0.9785\n",
            "Epoch 38/50\n",
            "50/50 [==============================] - 71s 1s/step - loss: 0.0553 - acc: 0.9808\n",
            "Epoch 39/50\n",
            "50/50 [==============================] - 68s 1s/step - loss: 0.0513 - acc: 0.9842\n",
            "Epoch 40/50\n",
            "50/50 [==============================] - 71s 1s/step - loss: 0.0416 - acc: 0.9851\n",
            "Epoch 41/50\n",
            "50/50 [==============================] - 69s 1s/step - loss: 0.0529 - acc: 0.9809\n",
            "Epoch 42/50\n",
            "50/50 [==============================] - 71s 1s/step - loss: 0.0478 - acc: 0.9833\n",
            "Epoch 43/50\n",
            "50/50 [==============================] - 69s 1s/step - loss: 0.0398 - acc: 0.9873\n",
            "Epoch 44/50\n",
            "50/50 [==============================] - 70s 1s/step - loss: 0.0425 - acc: 0.9849\n",
            "Epoch 45/50\n",
            "50/50 [==============================] - 69s 1s/step - loss: 0.0480 - acc: 0.9828\n",
            "Epoch 46/50\n",
            "50/50 [==============================] - 70s 1s/step - loss: 0.0389 - acc: 0.9864\n",
            "Epoch 47/50\n",
            "50/50 [==============================] - 70s 1s/step - loss: 0.0415 - acc: 0.9846\n",
            "Epoch 48/50\n",
            "50/50 [==============================] - 69s 1s/step - loss: 0.0427 - acc: 0.9830\n",
            "Epoch 49/50\n",
            "50/50 [==============================] - 70s 1s/step - loss: 0.0397 - acc: 0.9891\n",
            "Epoch 50/50\n",
            "50/50 [==============================] - 69s 1s/step - loss: 0.0441 - acc: 0.9836\n"
          ],
          "name": "stdout"
        }
      ]
    },
    {
      "metadata": {
        "id": "jbbzvUT2adi8",
        "colab_type": "code",
        "outputId": "b9c20e64-360b-4ef2-dc0b-0304694eac19",
        "colab": {
          "base_uri": "https://localhost:8080/",
          "height": 590
        }
      },
      "cell_type": "code",
      "source": [
        "import matplotlib.pyplot as plt\n",
        "# list all data in history\n",
        "print(history.history.keys())\n",
        "# summarize history for accuracy\n",
        "plt.plot(history.history['acc'])\n",
        "plt.title('model accuracy')\n",
        "plt.ylabel('accuracy')\n",
        "plt.xlabel('epoch')\n",
        "plt.legend(['train'], loc='upper left')\n",
        "plt.show()\n",
        "# summarize history for loss\n",
        "plt.plot(history.history['loss'])\n",
        "plt.title('model loss')\n",
        "plt.ylabel('loss')\n",
        "plt.xlabel('epoch')\n",
        "plt.legend(['train'], loc='upper left')\n",
        "plt.show()"
      ],
      "execution_count": 0,
      "outputs": [
        {
          "output_type": "stream",
          "text": [
            "dict_keys(['loss', 'acc'])\n"
          ],
          "name": "stdout"
        },
        {
          "output_type": "display_data",
          "data": {
            "image/png": "[encoded data removed]",
            "text/plain": [
              "<Figure size 432x288 with 1 Axes>"
            ]
          },
          "metadata": {
            "tags": []
          }
        },
        {
          "output_type": "display_data",
          "data": {
            "image/png": "[encoded data removed]",
            "text/plain": [
              "<Figure size 432x288 with 1 Axes>"
            ]
          },
          "metadata": {
            "tags": []
          }
        }
      ]
    }
  ]
}