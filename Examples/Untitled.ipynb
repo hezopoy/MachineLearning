{
 "cells": [
  {
   "cell_type": "code",
   "execution_count": 1,
   "metadata": {},
   "outputs": [
    {
     "name": "stderr",
     "output_type": "stream",
     "text": [
      "Using TensorFlow backend.\n"
     ]
    },
    {
     "name": "stdout",
     "output_type": "stream",
     "text": [
      "Found 852 images belonging to 2 classes.\n",
      "Found 105 images belonging to 2 classes.\n"
     ]
    }
   ],
   "source": [
    "train_dir = 'data/train'\n",
    "test_dir = 'data/test'\n",
    "from keras.preprocessing.image import ImageDataGenerator\n",
    "train_datagen = ImageDataGenerator(\n",
    "                rescale=1./255,\n",
    "                rotation_range=90,\n",
    "                fill_mode='nearest')\n",
    "train_generator = train_datagen.flow_from_directory(\n",
    "                train_dir,\n",
    "                target_size=(512, 512),\n",
    "                batch_size=5,\n",
    "                class_mode='binary')\n",
    "test_datagen = ImageDataGenerator(rescale=1./255)\n",
    "validation_generator = test_datagen.flow_from_directory(\n",
    "                test_dir,\n",
    "                target_size=(512, 512),\n",
    "                batch_size=5,\n",
    "                class_mode='binary',\n",
    "                )"
   ]
  },
  {
   "cell_type": "code",
   "execution_count": 2,
   "metadata": {},
   "outputs": [],
   "source": [
    "from keras import layers\n",
    "from keras import models\n",
    "from keras import applications\n",
    "model = models.Sequential()\n",
    "conv_base = applications.VGG16(weights='imagenet', \n",
    "                               include_top=False, \n",
    "                               input_shape=[512, 512, 3]) \n",
    "conv_base.trainable = False\n",
    "model.add(conv_base)\n",
    "#model.add(layers.Conv2D(128, (10, 10), activation='relu'))\n",
    "#model.add(layers.MaxPooling2D((5, 5)))\n",
    "model.add(layers.Flatten())\n",
    "#model.add(layers.Dropout(0.5))\n",
    "model.add(layers.Dense(256, activation='relu'))\n",
    "model.add(layers.Dense(1, activation='sigmoid'))\n",
    "\n",
    "from keras import optimizers\n",
    "model.compile(loss='binary_crossentropy',\n",
    "                optimizer=optimizers.RMSprop(lr=2e-5),\n",
    "                metrics=['acc'])"
   ]
  },
  {
   "cell_type": "code",
   "execution_count": 3,
   "metadata": {},
   "outputs": [
    {
     "name": "stdout",
     "output_type": "stream",
     "text": [
      "_________________________________________________________________\n",
      "Layer (type)                 Output Shape              Param #   \n",
      "=================================================================\n",
      "vgg16 (Model)                (None, 16, 16, 512)       14714688  \n",
      "_________________________________________________________________\n",
      "flatten_1 (Flatten)          (None, 131072)            0         \n",
      "_________________________________________________________________\n",
      "dense_1 (Dense)              (None, 256)               33554688  \n",
      "_________________________________________________________________\n",
      "dense_2 (Dense)              (None, 1)                 257       \n",
      "=================================================================\n",
      "Total params: 48,269,633\n",
      "Trainable params: 33,554,945\n",
      "Non-trainable params: 14,714,688\n",
      "_________________________________________________________________\n"
     ]
    }
   ],
   "source": [
    "model.summary()"
   ]
  },
  {
   "cell_type": "code",
   "execution_count": 4,
   "metadata": {},
   "outputs": [
    {
     "name": "stdout",
     "output_type": "stream",
     "text": [
      "Epoch 1/30\n",
      "50/50 [==============================] - 41s 827ms/step - loss: 0.8405 - acc: 0.5640 - val_loss: 0.8039 - val_acc: 0.5900\n",
      "Epoch 2/30\n",
      "50/50 [==============================] - 33s 661ms/step - loss: 0.6817 - acc: 0.6200 - val_loss: 0.6941 - val_acc: 0.5600\n",
      "Epoch 3/30\n",
      "50/50 [==============================] - 33s 667ms/step - loss: 0.5853 - acc: 0.6960 - val_loss: 0.8846 - val_acc: 0.5750\n",
      "Epoch 4/30\n",
      "50/50 [==============================] - 37s 738ms/step - loss: 0.5362 - acc: 0.7461 - val_loss: 1.2561 - val_acc: 0.5600\n",
      "Epoch 5/30\n",
      "50/50 [==============================] - 33s 666ms/step - loss: 0.5514 - acc: 0.7160 - val_loss: 0.7435 - val_acc: 0.5200\n",
      "Epoch 6/30\n",
      "50/50 [==============================] - 33s 651ms/step - loss: 0.4909 - acc: 0.7600 - val_loss: 0.8754 - val_acc: 0.5950\n",
      "Epoch 7/30\n",
      "50/50 [==============================] - 32s 645ms/step - loss: 0.4803 - acc: 0.7679 - val_loss: 0.8688 - val_acc: 0.4500\n",
      "Epoch 8/30\n",
      "50/50 [==============================] - 34s 678ms/step - loss: 0.4563 - acc: 0.7880 - val_loss: 0.8846 - val_acc: 0.5400\n",
      "Epoch 9/30\n",
      "50/50 [==============================] - 33s 650ms/step - loss: 0.4293 - acc: 0.7960 - val_loss: 0.8992 - val_acc: 0.5350\n",
      "Epoch 10/30\n",
      "50/50 [==============================] - 33s 663ms/step - loss: 0.5177 - acc: 0.7400 - val_loss: 0.8794 - val_acc: 0.5200\n",
      "Epoch 11/30\n",
      "50/50 [==============================] - 33s 653ms/step - loss: 0.4078 - acc: 0.7821 - val_loss: 0.9705 - val_acc: 0.5050\n",
      "Epoch 12/30\n",
      "50/50 [==============================] - 33s 663ms/step - loss: 0.4312 - acc: 0.8080 - val_loss: 1.2114 - val_acc: 0.5900\n",
      "Epoch 13/30\n",
      "50/50 [==============================] - 34s 678ms/step - loss: 0.4341 - acc: 0.8120 - val_loss: 1.0354 - val_acc: 0.5450\n",
      "Epoch 14/30\n",
      "50/50 [==============================] - 33s 656ms/step - loss: 0.4589 - acc: 0.7799 - val_loss: 1.3273 - val_acc: 0.5750\n",
      "Epoch 15/30\n",
      "50/50 [==============================] - 34s 671ms/step - loss: 0.3760 - acc: 0.8280 - val_loss: 1.2831 - val_acc: 0.6200\n",
      "Epoch 16/30\n",
      "50/50 [==============================] - 33s 656ms/step - loss: 0.3957 - acc: 0.7920 - val_loss: 1.0178 - val_acc: 0.4950\n",
      "Epoch 17/30\n",
      "50/50 [==============================] - 34s 676ms/step - loss: 0.4557 - acc: 0.7920 - val_loss: 1.0678 - val_acc: 0.4700\n",
      "Epoch 18/30\n",
      "50/50 [==============================] - 32s 648ms/step - loss: 0.3937 - acc: 0.8000 - val_loss: 1.1791 - val_acc: 0.5200\n",
      "Epoch 19/30\n",
      "50/50 [==============================] - 34s 671ms/step - loss: 0.3471 - acc: 0.8440 - val_loss: 1.1170 - val_acc: 0.4950\n",
      "Epoch 20/30\n",
      "50/50 [==============================] - 33s 654ms/step - loss: 0.3740 - acc: 0.8200 - val_loss: 1.1515 - val_acc: 0.4900\n",
      "Epoch 21/30\n",
      "50/50 [==============================] - 33s 664ms/step - loss: 0.3936 - acc: 0.8221 - val_loss: 1.2191 - val_acc: 0.4750\n",
      "Epoch 22/30\n",
      "50/50 [==============================] - 34s 677ms/step - loss: 0.3882 - acc: 0.8000 - val_loss: 1.1186 - val_acc: 0.5200\n",
      "Epoch 23/30\n",
      "50/50 [==============================] - 33s 662ms/step - loss: 0.4173 - acc: 0.7960 - val_loss: 1.1503 - val_acc: 0.5000\n",
      "Epoch 24/30\n",
      "50/50 [==============================] - 33s 665ms/step - loss: 0.3305 - acc: 0.8640 - val_loss: 1.2610 - val_acc: 0.5150\n",
      "Epoch 25/30\n",
      "50/50 [==============================] - 33s 656ms/step - loss: 0.3953 - acc: 0.8280 - val_loss: 1.1911 - val_acc: 0.5750\n",
      "Epoch 26/30\n",
      "50/50 [==============================] - 35s 701ms/step - loss: 0.3701 - acc: 0.8240 - val_loss: 1.3422 - val_acc: 0.5350\n",
      "Epoch 27/30\n",
      "50/50 [==============================] - 35s 694ms/step - loss: 0.3395 - acc: 0.8680 - val_loss: 1.2637 - val_acc: 0.4900\n",
      "Epoch 28/30\n",
      "50/50 [==============================] - 34s 680ms/step - loss: 0.3395 - acc: 0.8501 - val_loss: 1.1469 - val_acc: 0.5750\n",
      "Epoch 29/30\n",
      "50/50 [==============================] - 33s 653ms/step - loss: 0.3716 - acc: 0.8200 - val_loss: 1.3871 - val_acc: 0.5200\n",
      "Epoch 30/30\n",
      "50/50 [==============================] - 33s 655ms/step - loss: 0.2573 - acc: 0.8840 - val_loss: 1.4198 - val_acc: 0.6050\n"
     ]
    }
   ],
   "source": [
    "history = model.fit_generator(\n",
    "                train_generator,\n",
    "                steps_per_epoch=50,\n",
    "                epochs=30,\n",
    "                validation_data=validation_generator,\n",
    "                validation_steps=40\n",
    "                )"
   ]
  },
  {
   "cell_type": "code",
   "execution_count": 5,
   "metadata": {},
   "outputs": [],
   "source": [
    "model.save('bw.md')"
   ]
  },
  {
   "cell_type": "code",
   "execution_count": 8,
   "metadata": {},
   "outputs": [
    {
     "data": {
      "text/plain": [
       "<matplotlib.legend.Legend at 0x260597c4a20>"
      ]
     },
     "execution_count": 8,
     "metadata": {},
     "output_type": "execute_result"
    },
    {
     "data": {
      "image/png": "[encoded data removed]",
      "text/plain": [
       "<Figure size 432x288 with 1 Axes>"
      ]
     },
     "metadata": {
      "needs_background": "light"
     },
     "output_type": "display_data"
    }
   ],
   "source": [
    "import matplotlib.pyplot as plt\n",
    "acc = history.history['acc']\n",
    "val_acc = history.history['val_acc']\n",
    "loss = history.history['loss']\n",
    "val_loss = history.history['val_loss']\n",
    "epochs = range(1, len(acc) + 1)\n",
    "plt.plot(epochs, acc, 'bo', label='Training acc')\n",
    "plt.plot(epochs, val_acc, 'b', label='Validation acc')\n",
    "plt.title('Training and validation accuracy')\n",
    "plt.legend()"
   ]
  },
  {
   "cell_type": "code",
   "execution_count": 7,
   "metadata": {},
   "outputs": [
    {
     "data": {
      "image/png": "[encoded data removed]",
      "text/plain": [
       "<Figure size 432x288 with 1 Axes>"
      ]
     },
     "metadata": {
      "needs_background": "light"
     },
     "output_type": "display_data"
    }
   ],
   "source": [
    "plt.figure()\n",
    "plt.plot(epochs, loss, 'bo', label='Training loss')\n",
    "plt.plot(epochs, val_loss, 'b', label='Validation loss')\n",
    "plt.title('Training and validation loss')\n",
    "plt.legend()\n",
    "plt.show()"
   ]
  },
  {
   "cell_type": "code",
   "execution_count": 9,
   "metadata": {},
   "outputs": [
    {
     "name": "stdout",
     "output_type": "stream",
     "text": [
      "Found 93 images belonging to 2 classes.\n"
     ]
    }
   ],
   "source": [
    "test_datagen = ImageDataGenerator(rescale=1./255)\n",
    "validation_generator = test_datagen.flow_from_directory(\n",
    "                test_dir,\n",
    "                target_size=(512, 512),\n",
    "                batch_size=5,\n",
    "                class_mode='binary',\n",
    "                )"
   ]
  },
  {
   "cell_type": "code",
   "execution_count": 19,
   "metadata": {},
   "outputs": [
    {
     "data": {
      "text/plain": [
       "[1.2713345443048785, 0.6559139925946471]"
      ]
     },
     "execution_count": 19,
     "metadata": {},
     "output_type": "execute_result"
    }
   ],
   "source": [
    "score = model.evaluate_generator(validation_generator,93/5)\n",
    "score"
   ]
  },
  {
   "cell_type": "code",
   "execution_count": null,
   "metadata": {},
   "outputs": [],
   "source": []
  }
 ],
 "metadata": {
  "kernelspec": {
   "display_name": "Python 3",
   "language": "python",
   "name": "python3"
  },
  "language_info": {
   "codemirror_mode": {
    "name": "ipython",
    "version": 3
   },
   "file_extension": ".py",
   "mimetype": "text/x-python",
   "name": "python",
   "nbconvert_exporter": "python",
   "pygments_lexer": "ipython3",
   "version": "3.6.8"
  }
 },
 "nbformat": 4,
 "nbformat_minor": 2
}
